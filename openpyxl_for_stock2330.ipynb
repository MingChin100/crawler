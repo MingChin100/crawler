{
  "nbformat": 4,
  "nbformat_minor": 0,
  "metadata": {
    "colab": {
      "name": "openpyxl_for_stock2330.ipynb",
      "provenance": [],
      "authorship_tag": "ABX9TyNXTuVNLkK7SgwQxdLJ1B3C",
      "include_colab_link": true
    },
    "kernelspec": {
      "name": "python3",
      "display_name": "Python 3"
    }
  },
  "cells": [
    {
      "cell_type": "markdown",
      "metadata": {
        "id": "view-in-github",
        "colab_type": "text"
      },
      "source": [
        "<a href=\"https://colab.research.google.com/github/MingChin100/crawler/blob/master/openpyxl_for_stock2330.ipynb\" target=\"_parent\"><img src=\"https://colab.research.google.com/assets/colab-badge.svg\" alt=\"Open In Colab\"/></a>"
      ]
    },
    {
      "cell_type": "code",
      "metadata": {
        "id": "hVwFRdafAm4n",
        "colab_type": "code",
        "colab": {
          "base_uri": "https://localhost:8080/",
          "height": 104
        },
        "outputId": "6a228767-1ed6-458c-cfd2-b7d4a4a5b4a3"
      },
      "source": [
        "!pip install bs4\n",
        "!pip install openpyxl"
      ],
      "execution_count": 2,
      "outputs": [
        {
          "output_type": "stream",
          "text": [
            "Requirement already satisfied: bs4 in /usr/local/lib/python3.6/dist-packages (0.0.1)\n",
            "Requirement already satisfied: beautifulsoup4 in /usr/local/lib/python3.6/dist-packages (from bs4) (4.6.3)\n",
            "Requirement already satisfied: openpyxl in /usr/local/lib/python3.6/dist-packages (2.5.9)\n",
            "Requirement already satisfied: jdcal in /usr/local/lib/python3.6/dist-packages (from openpyxl) (1.4.1)\n",
            "Requirement already satisfied: et-xmlfile in /usr/local/lib/python3.6/dist-packages (from openpyxl) (1.0.1)\n"
          ],
          "name": "stdout"
        }
      ]
    },
    {
      "cell_type": "code",
      "metadata": {
        "id": "I5VepnH6D7qy",
        "colab_type": "code",
        "colab": {}
      },
      "source": [
        "import openpyxl\n",
        "from openpyxl.styles import Font\n",
        "\n",
        "def export(self, stocks):\n",
        "    wb = openpyxl.Workbook()\n",
        "    sheet = wb.create_sheet(\"Yahoo股市\", 0)\n",
        " \n",
        "    response = requests.get(\n",
        "    \t    \"https://tw.stock.yahoo.com/q/q?s=2330\")\n",
        "    soup = BeautifulSoup(response.text, \"lxml\")\n",
        " \n",
        "    tables = soup.find_all(\"table\")[2]\n",
        "    ths = tables.find_all(\"th\")[0:11]\n",
        "    titles = (\"資料日期\",) + tuple(th.getText() for th in ths)\n",
        "    sheet.append(titles)\n",
        "\n",
        "    for stock in stocks:\n",
        "      sheet.append(stock)\n",
        "      if \"△\" in stock[6]:\n",
        "        # 儲存格字體顯示紅色\n",
        "        sheet.cell(row=index+2, column=7).font = Font(color='FF0000')\n",
        "\t    # else \"▽\" in stock[6]:\n",
        "        # 儲存格字體顯示綠色\n",
        "        sheet.cell(row=index+2, column=7).font = Font(color='00A600')  \n",
        "    \n",
        "    # 將爬取資料存成xlsx檔\n",
        "    wb.save(\"yahoostock2330.xlsx\")"
      ],
      "execution_count": 8,
      "outputs": []
    }
  ]
}